{
 "cells": [
  {
   "cell_type": "code",
   "execution_count": 163,
   "metadata": {},
   "outputs": [
    {
     "name": "stdout",
     "output_type": "stream",
     "text": [
      "(0, 0, 0, 1, 1, 1)\n",
      "(0, 0, 1, 0, 1, 1)\n",
      "(0, 0, 1, 1, 0, 1)\n",
      "(0, 0, 1, 1, 1, 0)\n",
      "(0, 1, 0, 0, 1, 1)\n",
      "(0, 1, 0, 1, 0, 1)\n",
      "(0, 1, 0, 1, 1, 0)\n",
      "(0, 1, 1, 0, 0, 1)\n",
      "(0, 1, 1, 0, 1, 0)\n",
      "(0, 1, 1, 1, 0, 0)\n",
      "(1, 0, 0, 0, 1, 1)\n",
      "(1, 0, 0, 1, 0, 1)\n",
      "(1, 0, 0, 1, 1, 0)\n",
      "(1, 0, 1, 0, 0, 1)\n",
      "(1, 0, 1, 0, 1, 0)\n",
      "(1, 0, 1, 1, 0, 0)\n",
      "(1, 1, 0, 0, 0, 1)\n",
      "(1, 1, 0, 0, 1, 0)\n",
      "(1, 1, 0, 1, 0, 0)\n",
      "(1, 1, 1, 0, 0, 0)\n",
      "-----------------\n",
      "Size ->  20\n",
      "-----------------\n"
     ]
    }
   ],
   "source": [
    "import numpy as np\n",
    "import itertools as it\n",
    "\n",
    "I = np.eye(6, dtype=int)\n",
    "\n",
    "arr = np.array(range(6))\n",
    "#arr = range(3)\n",
    "#P = it.permutations(arr)\n",
    "#P = it.combinations(arr, 5)\n",
    "\n",
    "count = 0\n",
    "for i in P:\n",
    "    #print(i)\n",
    "    #print(I[0, i])\n",
    " #   X = I[:, i]\n",
    " #   print(X)\n",
    "    count = count + 1\n",
    "#    if(count == 2):\n",
    "#        break\n",
    "\n",
    "#print(I[0,:])\n",
    "    \n",
    "\n",
    "    \n",
    "def getListWithOnes(number: int, width : int) -> np.array:\n",
    "    list = []\n",
    "    count = 0\n",
    "    for i in range(width):\n",
    "        list.append(1 if count < number else 0)\n",
    "        count = count + 1\n",
    "    list =  sorted(set(it.permutations(list)))\n",
    "    return list\n",
    "        \n",
    "\n",
    "\n",
    "\n",
    "L =  getListWithOnes(3, 6)\n",
    "\n",
    "for i in L:\n",
    "    print(i)\n",
    "print(\"-----------------\")\n",
    "print(\"Size -> \", len(L))\n",
    "print(\"-----------------\")\n",
    "\n",
    "#genCombination(1)\n",
    "\n"
   ]
  },
  {
   "cell_type": "code",
   "execution_count": 187,
   "metadata": {},
   "outputs": [
    {
     "name": "stdout",
     "output_type": "stream",
     "text": [
      "('+', '+')\n",
      "('+', '-')\n",
      "('+', '*')\n",
      "('+', '/')\n",
      "('-', '+')\n",
      "('-', '-')\n",
      "('-', '*')\n",
      "('-', '/')\n",
      "('*', '+')\n",
      "('*', '-')\n",
      "('*', '*')\n",
      "('*', '/')\n",
      "('/', '+')\n",
      "('/', '-')\n",
      "('/', '*')\n",
      "('/', '/')\n",
      "Size -> 16\n"
     ]
    }
   ],
   "source": [
    "CP = list(it.product(['+', '-', '*', '/'], repeat=2))\n",
    "\n",
    "L = list(it.permutations(['+', '-', '*', '/'], 2))\n",
    "for i in CP:\n",
    "    print(i)\n",
    "print(\"Size ->\", len(CP))\n"
   ]
  }
 ],
 "metadata": {
  "kernelspec": {
   "display_name": "base",
   "language": "python",
   "name": "python3"
  },
  "language_info": {
   "codemirror_mode": {
    "name": "ipython",
    "version": 3
   },
   "file_extension": ".py",
   "mimetype": "text/x-python",
   "name": "python",
   "nbconvert_exporter": "python",
   "pygments_lexer": "ipython3",
   "version": "3.11.7"
  }
 },
 "nbformat": 4,
 "nbformat_minor": 2
}
