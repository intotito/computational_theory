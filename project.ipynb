{
 "cells": [
  {
   "cell_type": "markdown",
   "metadata": {},
   "source": [
    "# Countdown Game\n",
    "\n",
    "This project seeks to analyze and solve the number round of TV programme Countdown. \n",
    "\n",
    "## How to Play\n",
    "\n",
    "- Contestants are given six random integer numbers with range 1 - 100 (inclusive). \n",
    "- A random target integer number between 101 and 999 is generated. \n",
    "- Contestants are expected to use a combination of the six integer numbers using plus, minus, divide and multiply operators to result in the generated random target number. \n",
    "\n",
    "## Rules\n",
    "\n",
    "- Each number can only be used once.\n",
    "- Division operation can only be used when the divisor perfectly divides the quotient (i.e.) division results in an integer without remainder. \n",
    "- Subtraction operation can only be used when it will result in a positive integer. (?????)"
   ]
  },
  {
   "cell_type": "markdown",
   "metadata": {},
   "source": [
    "# Problem Analysis\n",
    "\n",
    "Let $n$ = number of input numbers, i.e. $n = 6$\n",
    "\n",
    "Let $m$ = number of possible operators, i.e. $m = 4$\n",
    "\n",
    "Let $X$ = list of numbers to operate on, i.e.  $ X = [x_1, x_2, x_3, x_4, x_5]$\n",
    "\n",
    "\n",
    "Let $O$ = set of possible operators, i.e. $O = \\{+, -, /, *\\}$\n",
    "\n",
    "Since a minimum of 1 (based on assumption to avoid early optimization) to a maximum of 6 numbers can be used to come up with a solution, i.e a total possible combinations of $2^n$ is possible. \n",
    "\n",
    "Let $C$ represents the total possible combinations = $2^6 = 64$ "
   ]
  },
  {
   "cell_type": "markdown",
   "metadata": {},
   "source": [
    "# Strategy\n",
    "\n",
    "For the purpose of solving the problem, a brute force approach will be used to get to the root of the problem and understand the complexity and thereafter, some optimization techniques will be employed to optimize the solution. \n"
   ]
  },
  {
   "cell_type": "markdown",
   "metadata": {},
   "source": [
    "# Solution\n",
    "\n",
    "## Assumption\n",
    "\n",
    "Let $N$ = Total number of iterations required to exhaustively brute force all possible scenarios. \n",
    "\n",
    "\n",
    "### Single Number Solution \n",
    "The solution is just one of the number. If the solution was to be one of the number, then to exhaustively search and identify the correct number assuming the worst case scenario, then the whole list must be searched. \n",
    "\n",
    "Let $N_1$ = number of iteration required to exhaustively search the list and come up with the right number. \n",
    "\n",
    "$\\implies N_1 = n = 6$"
   ]
  },
  {
   "cell_type": "markdown",
   "metadata": {},
   "source": [
    "\n",
    "### Two Numbers Solution\n",
    "\n",
    "This solution is based on the assumption that the solution is a combination of two values, say $x_i$ and $x_j$. \n",
    "\n",
    "This can be represented mathematically as 6 Combination 2 = ${}^6C_2$ = $\\frac{6!}{(6-2)!2!} = \\frac{6 \\times 5 \\times 4 \\times 3 \\times 2 \\times 1}{(4 \\times 3 \\times 2 \\times 1)2 \\times 1} = 15$\n",
    "\n",
    "$\\implies C_2 = 15$\n",
    "\n",
    "This implies that there are a 15 possible combinations of 2 distinct numbers in the list. \n",
    "\n",
    "Also there are four (4) possible operations that can be performed on the numbers ($\\text{+}$, $\\text{-}$, $\\div$, $\\times$), then there will be a total of $C_2 \\times m$\n",
    "\n",
    "$\\implies N_2 = C_2 \\times m = 15 \\times 4 = 30$\n",
    "\n"
   ]
  },
  {
   "cell_type": "markdown",
   "metadata": {},
   "source": [
    "### Three Numbers Solution\n",
    "\n",
    "This solution is based on the assumption that the solution is a combination of three values, say $x_i, x_j, x_k$. \n",
    "\n",
    "6 Combination 3 = ${}^6C_3 = \\frac{6!}{(6-3)!3!} = \\frac{6 \\times 5 \\times 4 \\times 3 \\times 2 \\times 1}{(3 \\times 2 \\times 1)3 \\times 2 \\times 1} = 20$\n",
    "\n",
    "$\\implies C_3 = 20$\n",
    "\n",
    "This implies that there are 20 possible combinations of 3 distinct numbers in the list. \n",
    "\n",
    "Also there are four (4) possible operations that can be performed. \n",
    "\n",
    "$\\implies N_3 = C_3 \\times m = 20 \\times 4 = 80$"
   ]
  }
 ],
 "metadata": {
  "language_info": {
   "name": "python"
  }
 },
 "nbformat": 4,
 "nbformat_minor": 2
}
