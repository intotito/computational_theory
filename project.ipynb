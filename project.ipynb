{
 "cells": [
  {
   "cell_type": "markdown",
   "metadata": {},
   "source": [
    "# Countdown Game\n",
    "\n",
    "This project seeks to analyze and solve the number round of TV programme Countdown. \n",
    "\n",
    "## How to Play\n",
    "\n",
    "- Contestants are given six random integer numbers with range 1 - 100 (inclusive). \n",
    "- A random target integer number between 101 and 999 is generated. \n",
    "- Contestants are expected to use a combination of the six integer numbers using plus, minus, divide and multiply operators to result in the generated random target number. \n",
    "\n",
    "## Rules\n",
    "\n",
    "- Each number can only be used once.\n",
    "- Division operation can only be used when the divisor perfectly divides the quotient (i.e.) division results in an integer without remainder. \n",
    "- Subtraction operation can only be used when it will result in a positive integer. (?????)"
   ]
  },
  {
   "cell_type": "markdown",
   "metadata": {},
   "source": [
    "# Problem Analysis\n",
    "\n",
    "Let $n$ = number of input numbers, i.e. $n = 6$\n",
    "\n",
    "Let $m$ = number of possible operators, i.e. $m = 4$\n",
    "\n",
    "Let $X$ = list of numbers to operate on, i.e.  $ X = [x_1, x_2, x_3, x_4, x_5]$\n",
    "\n",
    "\n",
    "Let $O$ = set of possible operators, i.e. $O = \\{+, -, /, *\\}$\n",
    "\n",
    "Since a minimum of 1 (based on assumption to avoid early optimization) to a maximum of 6 numbers can be used to come up with a solution, i.e a total possible combinations of $2^n$ is possible. \n",
    "\n",
    "Let $C$ represents the total possible combinations = $2^6 = 64$ \n",
    "\n",
    "Let $t$ be the target number"
   ]
  },
  {
   "cell_type": "markdown",
   "metadata": {},
   "source": [
    "\n",
    "\n",
    "$$\n",
    "\\begin{bmatrix}\n",
    "    0 & 0 & 0 & 0 & 0 & 0 \\\\[2mm]\n",
    "    0 & 0 & 0 & 0 & 0 & 1 \\\\[2mm]\n",
    "    0 & 0 & 0 & 0 & 1 & 0 \\\\\n",
    "    \\vdots & \\vdots & \\vdots & \\vdots & \\vdots & \\vdots \\\\\n",
    "    0 & 0 &\n",
    "\n",
    "\\end{bmatrix}\n",
    "\\begin{align}\n",
    "     & \\quad\\textit{\\footnotesize{Hypothetical Solution where t = 0 and X = \\{0, 0, ....\\}}}\\notag\\\\[2mm]\n",
    "     & \\quad\\textit{\\footnotesize{Hypothetical Solution where $x_5$ = t}}\\notag\\\\[2mm]\n",
    "     & \\quad\\textit{\\footnotesize{Hypothetical Solution where $x_4$ = t}}\\notag\\\\\n",
    "\\end{align}\n",
    "$$"
   ]
  },
  {
   "cell_type": "code",
   "execution_count": 74,
   "metadata": {},
   "outputs": [],
   "source": [
    "import numpy as np\n",
    "import itertools as it\n",
    "\n",
    "n = 6\n",
    "\n",
    "def getCombination(number: int, width : int) -> np.array:\n",
    "    list = []\n",
    "    count = 0\n",
    "    for i in range(width):\n",
    "        list.append(1 if count < number else 0)\n",
    "        count = count + 1\n",
    "    list =  sorted(set(it.permutations(list)))\n",
    "    for i in list:\n",
    "        print(i)\n",
    "    print(\"-----------------\")\n",
    "    print(\"Size -> \", len(list))\n",
    "    print(\"-----------------\")\n",
    "    return list\n",
    "\n",
    "\n",
    "def getPermutation(number: int) -> np.array:\n",
    "    array = list(it.permutations(range(1, number + 1)))\n",
    "    for i in array:\n",
    "        print(i)\n",
    "    return [*array]"
   ]
  },
  {
   "cell_type": "markdown",
   "metadata": {},
   "source": [
    "# Strategy\n",
    "\n",
    "For the purpose of solving the problem, a brute force approach will be used to get to the root of the problem and understand the complexity and thereafter, some optimization techniques will be employed to optimize the solution. \n"
   ]
  },
  {
   "cell_type": "markdown",
   "metadata": {},
   "source": [
    "# Solution\n",
    "\n",
    "## Assumption\n",
    "\n",
    "Let $N$ = Total number of iterations required to exhaustively brute force all possible scenarios. \n",
    "\n",
    "\n",
    "\n",
    "### Null Solution \n",
    "\n",
    "This is a hypothetical solution where where $t$, the target number is `0` and the player wins by default. "
   ]
  },
  {
   "cell_type": "code",
   "execution_count": 58,
   "metadata": {},
   "outputs": [
    {
     "name": "stdout",
     "output_type": "stream",
     "text": [
      "(0, 0, 0, 0, 0, 0)\n",
      "-----------------\n",
      "Size ->  1\n",
      "-----------------\n"
     ]
    },
    {
     "data": {
      "text/plain": [
       "1"
      ]
     },
     "execution_count": 58,
     "metadata": {},
     "output_type": "execute_result"
    }
   ],
   "source": [
    "x = 0\n",
    "N0 = len(getCombination(x, n))"
   ]
  },
  {
   "cell_type": "markdown",
   "metadata": {},
   "source": [
    "### Single Number Solution \n",
    "The solution is just one of the number. If the solution was to be one of the number, then to exhaustively search and identify the correct number assuming the worst case scenario, then the whole list must be searched. \n",
    "\n",
    "Let $N_1$ = number of iteration required to exhaustively search the list and come up with the right number. \n",
    "\n",
    "$\\implies C_1 = n = 6$"
   ]
  },
  {
   "cell_type": "code",
   "execution_count": 59,
   "metadata": {},
   "outputs": [
    {
     "name": "stdout",
     "output_type": "stream",
     "text": [
      "(0, 0, 0, 0, 0, 1)\n",
      "(0, 0, 0, 0, 1, 0)\n",
      "(0, 0, 0, 1, 0, 0)\n",
      "(0, 0, 1, 0, 0, 0)\n",
      "(0, 1, 0, 0, 0, 0)\n",
      "(1, 0, 0, 0, 0, 0)\n",
      "-----------------\n",
      "Size ->  6\n",
      "-----------------\n"
     ]
    },
    {
     "data": {
      "text/plain": [
       "6"
      ]
     },
     "execution_count": 59,
     "metadata": {},
     "output_type": "execute_result"
    }
   ],
   "source": [
    "x = 1\n",
    "C1 = len(getCombination(x, n))"
   ]
  },
  {
   "cell_type": "markdown",
   "metadata": {},
   "source": [
    "\n",
    "### Two Numbers Solution\n",
    "\n",
    "This solution is based on the assumption that the solution is a combination of two values, say $x_i$ and $x_j$. \n",
    "\n",
    "This can be evaluated mathematically as 6 Combination 2 = ${}^6C_2$ = $\\frac{6!}{(6-2)!2!} = \\frac{6 \\times 5 \\times 4 \\times 3 \\times 2 \\times 1}{(4 \\times 3 \\times 2 \\times 1)2 \\times 1} = 15$\n",
    "\n",
    "$\\implies C_2 = 15$\n",
    "\n",
    "This implies that there are a 15 possible combinations of 2 distinct numbers in the list. "
   ]
  },
  {
   "cell_type": "code",
   "execution_count": 60,
   "metadata": {},
   "outputs": [
    {
     "name": "stdout",
     "output_type": "stream",
     "text": [
      "(0, 0, 0, 0, 1, 1)\n",
      "(0, 0, 0, 1, 0, 1)\n",
      "(0, 0, 0, 1, 1, 0)\n",
      "(0, 0, 1, 0, 0, 1)\n",
      "(0, 0, 1, 0, 1, 0)\n",
      "(0, 0, 1, 1, 0, 0)\n",
      "(0, 1, 0, 0, 0, 1)\n",
      "(0, 1, 0, 0, 1, 0)\n",
      "(0, 1, 0, 1, 0, 0)\n",
      "(0, 1, 1, 0, 0, 0)\n",
      "(1, 0, 0, 0, 0, 1)\n",
      "(1, 0, 0, 0, 1, 0)\n",
      "(1, 0, 0, 1, 0, 0)\n",
      "(1, 0, 1, 0, 0, 0)\n",
      "(1, 1, 0, 0, 0, 0)\n",
      "-----------------\n",
      "Size ->  15\n",
      "-----------------\n"
     ]
    },
    {
     "data": {
      "text/plain": [
       "15"
      ]
     },
     "execution_count": 60,
     "metadata": {},
     "output_type": "execute_result"
    }
   ],
   "source": [
    "x = 2\n",
    "C2 = len(getCombination(x, n))"
   ]
  },
  {
   "cell_type": "markdown",
   "metadata": {},
   "source": [
    "For the purpose of avoiding early optimization, it will be assumed that all the operators $O$ are non commutative and thus $(a$ `op` $b)$ $\\neq$ $(b$ `op` $a)$ where `op` $\\in O$.\n",
    "\n",
    "Thus, for $x$ numbers, there is a possible $x!$ permutations"
   ]
  },
  {
   "cell_type": "code",
   "execution_count": 77,
   "metadata": {},
   "outputs": [
    {
     "name": "stdout",
     "output_type": "stream",
     "text": [
      "(1, 2)\n",
      "(2, 1)\n"
     ]
    }
   ],
   "source": [
    "P2 = len(getPermutation(x))"
   ]
  },
  {
   "cell_type": "markdown",
   "metadata": {},
   "source": [
    "This implies that for all possible combinations of two numbers in a six digit number, there are a further two permutations possible per combination, $P_2 = 2$. \n",
    "\n",
    "$\\implies N_2 = C_2 \\times P_2 = 15 \\times 2 = 30$\n",
    "\n"
   ]
  },
  {
   "cell_type": "code",
   "execution_count": 78,
   "metadata": {},
   "outputs": [
    {
     "data": {
      "text/plain": [
       "30"
      ]
     },
     "execution_count": 78,
     "metadata": {},
     "output_type": "execute_result"
    }
   ],
   "source": [
    "N2 = C2 * P2\n",
    "N2"
   ]
  },
  {
   "cell_type": "markdown",
   "metadata": {},
   "source": [
    "Also there are four (4) possible operations that can be performed on the numbers ($\\text{+}$, $\\text{-}$, $\\div$, $\\times$).\n",
    "\n",
    "However, for $x$ numbers a possible $x-1$ operators can be applied. \n",
    "\n",
    "This implies that for every value of $N$ say $N_i$, there is a further $m^{x-1}$ permutations of the operators that can be exhaustively applied to $N_i$. Where $m$ is number of operators $\\equiv$ 4. This can be mathematically described as the cartesian product of the set of operators $O$ on itself $(x-1)$ times.\n",
    "\n",
    "i.e $N_i = \\left| O^{x-1} \\right| \\equiv \\left|O_1 \\times O_2 \\times ... \\times O_{x-1}\\right|$.\n",
    "\n",
    "$O^{x-1} = O^{2-1} = O^{1} = \\{+, -, \\times, \\div\\}, \\quad\\implies\\left|O\\right| = 4$\n",
    "\n",
    "$Q_2 = N_2 \\times \\left|O^{x-1}\\right| = 30 \\times 4 = 120$"
   ]
  },
  {
   "cell_type": "markdown",
   "metadata": {},
   "source": [
    "## Computation table\n",
    "\n",
    "Let $N$ be the set of total operations needed to exhaustively try all possible  permutations of input numbers using all possible number of samples. \n",
    "\n",
    "$N =\\{N_1, N_2, N_3, N_4, N_5, N_6\\}$ and $N = \\sum\\limits_{i=1}^{n}N_i$ where $N_i$ is the total possible number of computation for $i$ samples. \n",
    "\n",
    "We shall show that $N_i = {}^nC_i \\times i! \\times m^{i-1}$ where $n$ is number of input numbers, $i$ is number of samples under consideration $\\{1, 2, 3, 4, 5, 6\\}$, $m$ is number of operators = 4 ($\\{+, -, \\times, \\div\\}$) and ${}^nC_i = \\frac{n!}{(n-r)! \\times r!}$"
   ]
  },
  {
   "cell_type": "markdown",
   "metadata": {},
   "source": [
    "| Syntax      | Description | Test Text     |\n",
    "| :---        |    :----:   |          ---: |\n",
    "| Header      | Title       | Here's this   |\n",
    "| Paragraph   | Text        | And more      |"
   ]
  },
  {
   "cell_type": "markdown",
   "metadata": {},
   "source": [
    "### Three Numbers Solution\n",
    "\n",
    "This solution is based on the assumption that the solution is a combination of three values, say $x_i, x_j, x_k$. \n",
    "\n",
    "6 Combination 3 = ${}^6C_3 = \\frac{6!}{(6-3)!3!} = \\frac{6 \\times 5 \\times 4 \\times 3 \\times 2 \\times 1}{(3 \\times 2 \\times 1)3 \\times 2 \\times 1} = 20$\n",
    "\n",
    "$\\implies C_3 = 20$\n",
    "\n",
    "This implies that there are 20 possible combinations of 3 distinct numbers in the list. \n",
    "\n",
    "Also there are four (4) possible operations that can be performed. \n",
    "\n",
    "$\\implies N_3 = C_3 \\times m = 20 \\times 4 = 80$"
   ]
  }
 ],
 "metadata": {
  "kernelspec": {
   "display_name": "base",
   "language": "python",
   "name": "python3"
  },
  "language_info": {
   "codemirror_mode": {
    "name": "ipython",
    "version": 3
   },
   "file_extension": ".py",
   "mimetype": "text/x-python",
   "name": "python",
   "nbconvert_exporter": "python",
   "pygments_lexer": "ipython3",
   "version": "3.11.7"
  }
 },
 "nbformat": 4,
 "nbformat_minor": 2
}
