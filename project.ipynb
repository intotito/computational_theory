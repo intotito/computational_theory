{
 "cells": [
  {
   "cell_type": "markdown",
   "metadata": {},
   "source": [
    "# Countdown Game\n",
    "\n",
    "This project seeks to analyze and solve the number round of TV programme Countdown. \n",
    "\n",
    "## How to Play\n",
    "\n",
    "- Contestants are given six random integer numbers with range 1 - 100 (inclusive). \n",
    "- A random target integer number between 101 and 999 is generated. \n",
    "- Contestants are expected to use a combination of the six integer numbers using plus, minus, divide and multiply operators to result in the generated random target number. \n",
    "\n",
    "## Rules\n",
    "\n",
    "- Each number can only be used once.\n",
    "- Division operation can only be used when the divisor perfectly divides the quotient (i.e.) division results in an integer without remainder. \n",
    "- Subtraction operation can only be used when it will result in a positive integer. (?????)"
   ]
  },
  {
   "cell_type": "markdown",
   "metadata": {},
   "source": [
    "# Problem Analysis\n",
    "\n",
    "Let $X$ = list of numbers to operate on, i.e.  $ X = [x_1, x_2, x_3, x_4, x_5]$\n",
    "\n",
    "\n",
    "Let $O$ = set of possible operators, i.e. $O = \\{+, -, /, *\\}$"
   ]
  }
 ],
 "metadata": {
  "language_info": {
   "name": "python"
  }
 },
 "nbformat": 4,
 "nbformat_minor": 2
}
