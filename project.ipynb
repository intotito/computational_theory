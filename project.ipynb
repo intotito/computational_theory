{
 "cells": [
  {
   "cell_type": "markdown",
   "metadata": {},
   "source": [
    "# Countdown Game\n",
    "\n",
    "This project seeks to analyze and solve the number round of TV programme Countdown. \n",
    "\n",
    "## How to Play\n",
    "\n",
    "- Contestants are given six random integer numbers with range 1 - 100 (inclusive). \n",
    "- A random target integer number between 101 and 999 is generated. \n",
    "- Contestants are expected to use a combination of the six integer numbers using plus, minus, divide and multiply operators to result in the generated random target number. \n",
    "\n",
    "## Rules\n",
    "\n",
    "- Each number can only be used once.\n",
    "- Division operation can only be used when the divisor perfectly divides the quotient (i.e.) division results in an integer without remainder. \n",
    "- Subtraction operation can only be used when it will result in a positive integer. (?????)"
   ]
  },
  {
   "cell_type": "markdown",
   "metadata": {},
   "source": [
    "# Problem Analysis\n",
    "\n",
    "Let $n$ = number of input numbers, i.e. $n = 6$\n",
    "\n",
    "Let $m$ = number of possible operators, i.e. $m = 4$\n",
    "\n",
    "Let $X$ = list of numbers to operate on, i.e.  $ X = [x_1, x_2, x_3, x_4, x_5]$\n",
    "\n",
    "\n",
    "Let $O$ = set of possible operators, i.e. $O = \\{+, -, /, *\\}$\n",
    "\n",
    "Since a minimum of 1 (based on assumption to avoid early optimization) to a maximum of 6 numbers can be used to come up with a solution, i.e a total possible combinations of $2^n$ is possible. \n",
    "\n",
    "Let $C$ represents the total possible combinations = $2^6 = 64$ \n",
    "\n",
    "Let $t$ be the target number"
   ]
  },
  {
   "cell_type": "code",
   "execution_count": 5,
   "metadata": {},
   "outputs": [],
   "source": [
    "import numpy as np\n",
    "import itertools as it\n",
    "\n",
    "n = 6\n",
    "\n",
    "def getCombination(number: int, width : int) -> np.array:\n",
    "    list = []\n",
    "    count = 0\n",
    "    for i in range(width):\n",
    "        list.append(1 if count < number else 0)\n",
    "        count = count + 1\n",
    "    list =  sorted(set(it.permutations(list)))\n",
    "    for i in list:\n",
    "        print(i)\n",
    "    print(\"-----------------\")\n",
    "    print(\"Size -> \", len(list))\n",
    "    print(\"-----------------\")\n",
    "    return list\n",
    "\n",
    "\n",
    "def getPermutation(number: int) -> np.array:\n",
    "    array = list(it.permutations(range(1, number + 1)))\n",
    "    for i in array:\n",
    "        print(i)\n",
    "    return [*array]"
   ]
  },
  {
   "cell_type": "markdown",
   "metadata": {},
   "source": [
    "# Strategy\n",
    "\n",
    "For the purpose of solving the problem, a brute force approach will be used to get to the root of the problem and understand the complexity and thereafter, some optimization techniques will be employed to optimize the solution. \n"
   ]
  },
  {
   "cell_type": "markdown",
   "metadata": {},
   "source": [
    "# Solution\n",
    "\n",
    "## Assumption\n",
    "\n",
    "Let $N$ = Total number of iterations required to exhaustively brute force all possible scenarios. \n",
    "\n",
    "\n",
    "\n",
    "### Null Solution \n",
    "\n",
    "This is a hypothetical solution where where $t$, the target number is `0` and the player wins by default. "
   ]
  },
  {
   "cell_type": "code",
   "execution_count": 6,
   "metadata": {},
   "outputs": [
    {
     "name": "stdout",
     "output_type": "stream",
     "text": [
      "(0, 0, 0, 0, 0, 0)\n",
      "-----------------\n",
      "Size ->  1\n",
      "-----------------\n"
     ]
    }
   ],
   "source": [
    "x = 0\n",
    "N0 = len(getCombination(x, n))"
   ]
  },
  {
   "cell_type": "markdown",
   "metadata": {},
   "source": [
    "### Single Number Solution \n",
    "The solution is just one of the number. If the solution was to be one of the number, then to exhaustively search and identify the correct number assuming the worst case scenario, then the whole list must be searched. \n",
    "\n",
    "Let $N_1$ = number of iteration required to exhaustively search the list and come up with the right number. \n",
    "\n",
    "$\\implies C_1 = n = 6$"
   ]
  },
  {
   "cell_type": "code",
   "execution_count": 7,
   "metadata": {},
   "outputs": [
    {
     "name": "stdout",
     "output_type": "stream",
     "text": [
      "(0, 0, 0, 0, 0, 1)\n",
      "(0, 0, 0, 0, 1, 0)\n",
      "(0, 0, 0, 1, 0, 0)\n",
      "(0, 0, 1, 0, 0, 0)\n",
      "(0, 1, 0, 0, 0, 0)\n",
      "(1, 0, 0, 0, 0, 0)\n",
      "-----------------\n",
      "Size ->  6\n",
      "-----------------\n"
     ]
    }
   ],
   "source": [
    "x = 1\n",
    "C1 = len(getCombination(x, n))"
   ]
  },
  {
   "cell_type": "markdown",
   "metadata": {},
   "source": [
    "\n",
    "### Two Numbers Solution\n",
    "\n",
    "This solution is based on the assumption that the solution is a combination of two values, say $x_i$ and $x_j$. \n",
    "\n",
    "This can be evaluated mathematically as 6 Combination 2 = ${}^6C_2$ = $\\frac{6!}{(6-2)!2!} = \\frac{6 \\times 5 \\times 4 \\times 3 \\times 2 \\times 1}{(4 \\times 3 \\times 2 \\times 1)2 \\times 1} = 15$\n",
    "\n",
    "$\\implies C_2 = 15$\n",
    "\n",
    "This implies that there are a 15 possible combinations of 2 distinct numbers in the list. "
   ]
  },
  {
   "cell_type": "code",
   "execution_count": 8,
   "metadata": {},
   "outputs": [
    {
     "name": "stdout",
     "output_type": "stream",
     "text": [
      "(0, 0, 0, 0, 1, 1)\n",
      "(0, 0, 0, 1, 0, 1)\n",
      "(0, 0, 0, 1, 1, 0)\n",
      "(0, 0, 1, 0, 0, 1)\n",
      "(0, 0, 1, 0, 1, 0)\n",
      "(0, 0, 1, 1, 0, 0)\n",
      "(0, 1, 0, 0, 0, 1)\n",
      "(0, 1, 0, 0, 1, 0)\n",
      "(0, 1, 0, 1, 0, 0)\n",
      "(0, 1, 1, 0, 0, 0)\n",
      "(1, 0, 0, 0, 0, 1)\n",
      "(1, 0, 0, 0, 1, 0)\n",
      "(1, 0, 0, 1, 0, 0)\n",
      "(1, 0, 1, 0, 0, 0)\n",
      "(1, 1, 0, 0, 0, 0)\n",
      "-----------------\n",
      "Size ->  15\n",
      "-----------------\n"
     ]
    }
   ],
   "source": [
    "x = 2\n",
    "C2 = len(getCombination(x, n))"
   ]
  },
  {
   "cell_type": "markdown",
   "metadata": {},
   "source": [
    "For the purpose of avoiding early optimization, it will be assumed that all the operators $O$ are non commutative and thus $(a$ `op` $b)$ $\\neq$ $(b$ `op` $a)$ where `op` $\\in O$.\n",
    "\n",
    "Thus, for $x$ numbers, there is a possible $x!$ permutations"
   ]
  },
  {
   "cell_type": "code",
   "execution_count": 9,
   "metadata": {},
   "outputs": [
    {
     "name": "stdout",
     "output_type": "stream",
     "text": [
      "(1, 2)\n",
      "(2, 1)\n"
     ]
    }
   ],
   "source": [
    "P2 = len(getPermutation(x))"
   ]
  },
  {
   "cell_type": "markdown",
   "metadata": {},
   "source": [
    "This implies that for all possible combinations of two numbers in a six digit number, there are a further two permutations possible per combination, $P_2 = 2$. \n",
    "\n",
    "$\\implies N_2 = C_2 \\times P_2 = 15 \\times 2 = 30$\n",
    "\n"
   ]
  },
  {
   "cell_type": "code",
   "execution_count": 10,
   "metadata": {},
   "outputs": [
    {
     "data": {
      "text/plain": [
       "30"
      ]
     },
     "execution_count": 10,
     "metadata": {},
     "output_type": "execute_result"
    }
   ],
   "source": [
    "N2 = C2 * P2\n",
    "N2"
   ]
  },
  {
   "cell_type": "markdown",
   "metadata": {},
   "source": [
    "Also there are four (4) possible operations that can be performed on the numbers ($\\text{+}$, $\\text{-}$, $\\div$, $\\times$).\n",
    "\n",
    "However, for $x$ numbers a possible $x-1$ operators can be applied. \n",
    "\n",
    "This implies that for every value of $N$ say $N_i$, there is a further $m^{x-1}$ permutations of the operators that can be exhaustively applied to $N_i$. Where $m$ is number of operators $\\equiv$ 4. This can be mathematically described as the cartesian product of the set of operators $O$ on itself $(x-1)$ times.\n",
    "\n",
    "i.e $N_i = \\left| O^{x-1} \\right| \\equiv \\left|O_1 \\times O_2 \\times ... \\times O_{x-1}\\right|$.\n",
    "\n",
    "$O^{x-1} = O^{2-1} = O^{1} = \\{+, -, \\times, \\div\\}, \\quad\\implies\\left|O\\right| = 4$\n",
    "\n",
    "$Q_2 = N_2 \\times \\left|O^{x-1}\\right| = 30 \\times 4 = 120$"
   ]
  },
  {
   "cell_type": "markdown",
   "metadata": {},
   "source": [
    "## Computation table\n",
    "\n",
    "Let $N$ be the set of total operations needed to exhaustively try all possible  permutations of input numbers using all possible number of samples. \n",
    "\n",
    "$N =\\{N_1, N_2, N_3, N_4, N_5, N_6\\}$ and $N = \\sum\\limits_{i=1}^{n}N_i$ where $N_i$ is the total possible number of computation required to exhaustively try out $i$ samples. \n",
    "\n",
    "We shall show that $N_i = {}^nC_i \\times i! \\times m^{i-1} \\times 2^{i-1}$ where $n$ is number of input numbers, $i$ is number of samples under consideration (1, 2, 3, 4, 5, and 6), $m$ is number of operators = 4 ($+, -, \\times, \\div$) and ${}^nC_i = \\frac{n!}{(n-i)! \\times i!}$\n",
    "$$\n",
    "\\begin{align}\n",
    "\\begin{split}\n",
    "    \\text{Total Evaluations N}&=\\sum\\limits_{i=1}^{n}{}^nC_i \\times i! \\times m^{i-1} \\times 2^{i-1} \\\\\n",
    "    &=\\sum\\limits_{i=1}^{n}\\frac{n!}{(n-i)!} \\times m^{i-1} \\times 2^{i-1} \\\\\n",
    "    &=\\sum\\limits_{i=1}^{n}\\frac{n!}{(n-i)!} \\times 2^{3(i-1)}\\qquad (\\text{since }m\\equiv4)\\\\\n",
    "    &=\\sum\\limits_{i=1}^{n}\\frac{n! \\cdot 8^{i-1} }{(n-i)!} \n",
    "\\end{split}\n",
    "\\end{align}\n",
    "$$"
   ]
  },
  {
   "cell_type": "markdown",
   "metadata": {},
   "source": [
    "| $i$  | $y_1 = {}^nC_i$  | $y_2 = i!$ | $y_3 = m^{i - 1}$ | $y_4 = 2^{i-1}$| $N_i = y_1 \\times y_2 \\times y_3 \\times y_4$ |\n",
    "| :---:|---:|---:|---:|--:|--:| \n",
    "| 1 | ${}^6C_1 = \\frac{6!}{5!\\times1!}=6$   | $1! = 1$      | $4^0 = 1$     |$2^0=1$ | 6         |   \n",
    "| 2 | ${}^6C_2 = \\frac{6!}{4!\\times2!}=15$  | $2! = 2$      | $4^1 = 4$     |$2^1=2$| 240       |\n",
    "| 3 | ${}^6C_3 = \\frac{6!}{3!\\times3!}=20$  | $3! = 6$      | $4^2 = 16$    |$2^2=4$| 7,680     |\n",
    "| 4 | ${}^6C_4 = \\frac{6!}{2!\\times4!}=15$  | $4! = 24$     | $4^3 = 64$    |$2^3=8$| 184,320    |\n",
    "| 5 | ${}^6C_5 = \\frac{6!}{1!\\times5!}=6$   | $5! = 120$    | $4^4 = 256$   |$2^4=16$| 2,949,120   |\n",
    "| 6 | ${}^6C_6 = \\frac{6!}{0!\\times6!}=1$   | $6! = 720$    | $4^5 = 1,024$ |$2^5=32$| 23,592,960   |       \n",
    "\n",
    "$N = \\sum\\limits_{i=1}^{6}N_i = 6 + 240 + 7,680 + 184,320 + 2,949,120 + 23,592,960 = 26,734,326$\n",
    "\n"
   ]
  },
  {
   "cell_type": "code",
   "execution_count": 11,
   "metadata": {},
   "outputs": [],
   "source": [
    "# list of predicted values for i [(y1, y2, y3, Ni)]\n",
    "N_TEST = [[6, 1, 1, 1, 6], [15, 2, 4, 2, 240], [20, 6, 16, 4, 184320], [15, 24, 64, 23040], [6, 120, 256, 64, 2949120], [1, 720, 1024, 128, 23592960]]"
   ]
  },
  {
   "cell_type": "markdown",
   "metadata": {},
   "source": [
    "# Solution\n",
    "\n",
    "To verify the assertion made in the previous sections, the following methods will be developed to generate all the possible permutations. \n",
    "- `getPossibleCombination(n, r)` - Gets all possible combination of $r$ numbers in $n$ spaces. This method does not handle duplicate and only returns distinct values. Duplicate values will be taken into consideration in subsequent operations. The method evaluates to $y_1$ for every $i$ in the table above. \n",
    "\n",
    "- `testCombination()` - This method is designed to test computational complexity of `getPossibleCombination`method with respect to the values stated in the table above. "
   ]
  },
  {
   "cell_type": "code",
   "execution_count": 12,
   "metadata": {},
   "outputs": [
    {
     "name": "stdout",
     "output_type": "stream",
     "text": [
      "Test r = 1 \tEvaluation: count:  6 \texpected:  6\n",
      "Test r = 2 \tEvaluation: count:  15 \texpected:  15\n",
      "Test r = 3 \tEvaluation: count:  20 \texpected:  20\n",
      "Test r = 4 \tEvaluation: count:  15 \texpected:  15\n",
      "Test r = 5 \tEvaluation: count:  6 \texpected:  6\n",
      "Test r = 6 \tEvaluation: count:  1 \texpected:  1\n"
     ]
    }
   ],
   "source": [
    "# This method returns a list of the possible combinations of r numbers in n spaces. `0` represents number not taken into consideration\n",
    "# while `1` represents number being taken into consideration.\n",
    "# For this problem n = 6 and r ∈ {1, 2, 3, 4, 5, 6}\n",
    "def getPossibleCombinations(n: int, r : int) -> list[(int,)]:\n",
    "    list = []\n",
    "    count = 0\n",
    "    for i in range(n):\n",
    "        list.append(1 if count < r else 0)\n",
    "        count = count + 1\n",
    "    list =  sorted(set(it.permutations(list)))\n",
    "    return list\n",
    "\n",
    "\n",
    "# Test method to verify values of \n",
    "def testCombination(n: int):\n",
    "    for r in range(n) :\n",
    "        L = getPossibleCombinations(n, r + 1)        \n",
    "        print(\"Test r =\", (r + 1), \"\\tEvaluation: count: \", len(L), \"\\texpected: \", N_TEST[r][0])\n",
    "\n",
    "testCombination(6)\n"
   ]
  },
  {
   "cell_type": "markdown",
   "metadata": {},
   "source": [
    "- `getVariables(list)` - Turns a list of `1` and `0`s to a list containing variable names, $x_1, x_2, .., x_6$ for values containing `1` and ignores ones containing `0`s. For every given combination of numbers $r$ within a space of $n$, this method returns a list containing $r$ entries with a variable names with each one ending with the position of the number within the given input number. \n",
    "- `getPermutation(list)` - This method permutes a given list and produces a list of the different permutations of the values in the supplied list. This method takes duplication into consideration. This method evaluates to $y_2$ for every value of $y_1$ for any given $i$ in the table above.\n",
    "- `testVariables()` - This method is designed to verify that the `getVariables` method works as expected. For every value from the result of $y_1$ a list of variable label is expected as output. $(1, 1, 0, 0, 0, 0)$ is expected to return $[x1, x2]$ and $(0, 0, 0, 1, 1, 1)$ is expected to return $[x4, x5, x6]$. \n",
    "- `testPermutation()` - This method is designed to verify the computational complexity of `getPermutation` method agrees with the table above. "
   ]
  },
  {
   "cell_type": "code",
   "execution_count": 13,
   "metadata": {},
   "outputs": [
    {
     "name": "stdout",
     "output_type": "stream",
     "text": [
      "Verification: \tTest:\t (1, 1, 0, 0, 0, 0) \tResult:\t ['x1', 'x2'] \tExpected:\t ['x1', 'x2']\n",
      "Verification: \tTest:\t (0, 0, 0, 1, 1, 1) \tResult:\t ['x4', 'x5', 'x6'] \tExpected:\t ['x4', 'x5', 'x6']\n",
      "Permutation: r: 1 \tResult:\t 1 \tExpected:\t 1 \t [('x6',)]\n",
      "Permutation: r: 2 \tResult:\t 2 \tExpected:\t 2 \t [('x5', 'x6'), ('x6', 'x5')]\n",
      "Permutation: r: 3 \tResult:\t 6 \tExpected:\t 6 \t [('x4', 'x5', 'x6'), ('x4', 'x6', 'x5'), ('x5', 'x4', 'x6'), ('x5', 'x6', 'x4'), ('x6', 'x4', 'x5'), ('x6', 'x5', 'x4')]\n",
      "Permutation: r: 4 \tResult:\t 24 \tExpected:\t 24 \t [('x3', 'x4', 'x5', 'x6'), ('x3', 'x4', 'x6', 'x5'), ('x3', 'x5', 'x4', 'x6'), ('x3', 'x5', 'x6', 'x4'), ('x3', 'x6', 'x4', 'x5'), ('x3', 'x6', 'x5', 'x4'), ...]\n",
      "Permutation: r: 5 \tResult:\t 120 \tExpected:\t 120 \t [('x2', 'x3', 'x4', 'x5', 'x6'), ('x2', 'x3', 'x4', 'x6', 'x5'), ('x2', 'x3', 'x5', 'x4', 'x6'), ('x2', 'x3', 'x5', 'x6', 'x4'), ('x2', 'x3', 'x6', 'x4', 'x5'), ('x2', 'x3', 'x6', 'x5', 'x4'), ...]\n",
      "Permutation: r: 6 \tResult:\t 720 \tExpected:\t 720 \t [('x1', 'x2', 'x3', 'x4', 'x5', 'x6'), ('x1', 'x2', 'x3', 'x4', 'x6', 'x5'), ('x1', 'x2', 'x3', 'x5', 'x4', 'x6'), ('x1', 'x2', 'x3', 'x5', 'x6', 'x4'), ('x1', 'x2', 'x3', 'x6', 'x4', 'x5'), ('x1', 'x2', 'x3', 'x6', 'x5', 'x4'), ...]\n"
     ]
    }
   ],
   "source": [
    "import reprlib # for limiting output\n",
    "VAR_TEST = [(1, 1, 0, 0, 0, 0), (0, 0, 0, 1, 1, 1)] # test variable \n",
    "VAR_EXPECTED = [['x1', 'x2'], ['x4', 'x5', 'x6']]   # expected results of test variable\n",
    "\n",
    "def getVariables(list : list[(int,)]) -> list[(int,)]:\n",
    "    bag = []\n",
    "    for i in range(len(list)) :\n",
    "        if(list[i] == 1) : \n",
    "            bag.append('x' + str(i + 1))\n",
    "    return bag\n",
    "\n",
    "def getPermutation(input: list[str]) -> list[(str)] : \n",
    "    return list(it.permutations(input))\n",
    "\n",
    "\n",
    "def testVariables(test, expected):\n",
    "    for i in range(len(test)):\n",
    "        print(\"Verification: \\tTest:\\t\", test[i], \"\\tResult:\\t\", getVariables(test[i]), \"\\tExpected:\\t\", expected[i])\n",
    "\n",
    "def testPermutation(n): \n",
    "    for r in range(n) :  \n",
    "        comb = getPossibleCombinations(n, r + 1)\n",
    "        for c in comb : \n",
    "            perm = getPermutation(getVariables(c))\n",
    "            print(\"Permutation: r:\", (r + 1), \"\\tResult:\\t\", len(perm), \"\\tExpected:\\t\", N_TEST[r][1], \"\\t\", reprlib.repr(perm))\n",
    "            break # break after evaluating first value for every r\n",
    "\n",
    "    \n",
    "testVariables(VAR_TEST, VAR_EXPECTED)\n",
    "testPermutation(6)"
   ]
  },
  {
   "cell_type": "markdown",
   "metadata": {},
   "source": [
    "- `applyOperators()` - This method applies all possible operator to a given parameter. Every item in the returned list from `getPermutation()` is used as an argument to the method and a list containing all possible combination of the possible operators with the numbers in the given parameter. Assuming that the input parameter to the function is $[x_1, x_2]$, then the result is expected to be $[(x_1 + x_2), (x_1 - x_2), (x_1 \\div x_2), (x_1 \\times x_2)]$. And for three item parameter say $[x_1, x_2, x_3]$, then the expected output will be $[(x_1 + x_2 + x_3), (x_1 + x_2 - x_3), (x_1 + x_2 \\times x_3), (x_1 + x_2 \\div x_3), (x_1 - x_2 + x_3), (x_1 - x_2 - x_3), (x_1 - x_2 \\div x_3), (x_1 - x_2 \\times x_3), ..., (x_1 \\times x_2 \\times x_3)]$\n",
    "\n",
    "The computational complexity of this method is given by $m^{r - 1}$, ie for a parameter with 2 items, i.e. $r=2$, then expected output will have $4^{2-1}=4$ items and $4^{3-1}=16$ items for $r=3$."
   ]
  },
  {
   "cell_type": "code",
   "execution_count": 62,
   "metadata": {},
   "outputs": [
    {
     "name": "stdout",
     "output_type": "stream",
     "text": [
      "[['x1', '+', 'x2', '+', 'x3'], ['x1', '+', 'x2', '-', 'x3'], ['x1', '+', 'x2', '*', 'x3'], ['x1', '+', 'x2', '/', 'x3'], ['x1', '-', 'x2', '+', 'x3'], ['x1', '-', 'x2', '-', 'x3'], ...]\n"
     ]
    }
   ],
   "source": [
    "\n",
    "def applyOperators(par: list[str], op: list[str]):\n",
    "    r = len(par)\n",
    "    bag = []\n",
    "    op_prd = list(it.product(op, repeat=(r-1)))\n",
    "    for j in op_prd:\n",
    "        stack = []\n",
    "        for k in range(r) : \n",
    "            stack.append(par[k])\n",
    "            if(k < len(j)):\n",
    "                stack.append(j[k])\n",
    "        bag.append(stack)\n",
    "    return bag\n",
    "            \n",
    "print(reprlib.repr(applyOperators(['x1', 'x2', 'x3'], ['+', '-', '*', '/'])))"
   ]
  },
  {
   "cell_type": "markdown",
   "metadata": {},
   "source": [
    "- `parenthesize()` - This method applies all possible combination of parenthesis to a given parameter to the method. This methods operates on the basis that for $n$ numbers there is a possible $2^{n-1}$ application of parenthesis. This is demonstrated on the table below for context. Assuming we have a 3 number input with 2 infix operator say $x_1 + x_2 - x_3$. Number of output in this case for $n=3$ is 4. From the table below, the number $4$ is represented in binary form as indicated from the columns $b_1, b_2$ with the first row (0, 0) $\\equiv$ 0, (0, 1) $\\equiv$ 1, (1, 0) $\\equiv$ 2, (1,1) $\\equiv$ 3. \n",
    "\n",
    "    | $n_1$ | $op_1$ | $n_2$ | $op_2$| $n_3$ |$b_1$|$b_2$|\n",
    "    | :---:|:---:|:---:|:---:|:---:|:---:| :---:|\n",
    "    | $x_1$ | + | $x_2$| - | $x_3$| 0 | 0 |\n",
    "    | $x_1$ | + | ($x_2$| - | $x_3$)| 0 | 1 | \n",
    "    | ($x_1$ | + | $x_2$)| - | $x_3$| 1 | 0 | \n",
    "    | ($x_1$ | + | $x_2$| - | $x_3$)| 1 | 1 | \n",
    "\n",
    "    Parenthesis is applied wherever `1` appears on the $b$ column and will encompass the next number if two `1`s appear simultaneously and visa versa. This technique is applicable to varying number of $n$ as will be shown. From the look of the table above it can be seen that the first and last items on the table will always evaluate to the same value irrespective of any operator precedence. But for the sake of avoiding early optimization this will be ignored. \n",
    "- `convert_bin()` - This is a utility method for converting numbers to a fixed length binary form used for evaluating where parenthesis will be inserted. \n",
    "    "
   ]
  },
  {
   "cell_type": "code",
   "execution_count": 68,
   "metadata": {},
   "outputs": [
    {
     "data": {
      "text/plain": [
       "[['x1', '+', 'x2', '/', 'x3', '*', 'x4'],\n",
       " ['x1', '+', 'x2', '/', '(', 'x3', '*', 'x4', ')'],\n",
       " ['x1', '+', '(', 'x2', '/', 'x3', ')', '*', 'x4'],\n",
       " ['x1', '+', '(', 'x2', '/', 'x3', '*', 'x4', ')'],\n",
       " ['(', 'x1', '+', 'x2', ')', '/', 'x3', '*', 'x4'],\n",
       " ['(', 'x1', '+', 'x2', ')', '/', '(', 'x3', '*', 'x4', ')'],\n",
       " ['(', 'x1', '+', 'x2', '/', 'x3', ')', '*', 'x4'],\n",
       " ['(', 'x1', '+', 'x2', '/', 'x3', '*', 'x4', ')']]"
      ]
     },
     "execution_count": 68,
     "metadata": {},
     "output_type": "execute_result"
    }
   ],
   "source": [
    "def convert_bin(num, max):\n",
    "    ore = [int(bit) for bit in bin(num)[2:]]\n",
    "    maxL = len([int(bit) for bit in bin(max)[2:]])\n",
    "    for i in range(maxL - len(ore)) :\n",
    "        ore.insert(0, 0)\n",
    "    return ore\n",
    "\n",
    "def parenthesize(all: []):\n",
    "    x = (len(all[0]) + 1) // 2\n",
    "    width = 2 ** (x - 1) # y = 2x - 1, w = 2^(x - 1)\n",
    "    O = ['+', '-', '*', '/']\n",
    "    list = []\n",
    "    for i in range(len(all)) :\n",
    "        for j in range(width) :\n",
    "            open = False\n",
    "            bag = []\n",
    "            bin = convert_bin(j, width - 1)\n",
    "            for k in range(len(all[i])) :\n",
    "                z = (k + 1) // 2\n",
    "                if(all[i][k] in O) :\n",
    "                    bag.append(all[i][k])\n",
    "                else : \n",
    "                    if(open) : \n",
    "                        if(z >= len(bin)) :\n",
    "                            bag.append(all[i][k])\n",
    "                            bag.append(')')\n",
    "                        else :\n",
    "                            if(bin[z] == 1) :\n",
    "                                bag.append(all[i][k])       \n",
    "                            else :\n",
    "                                bag.append(all[i][k])\n",
    "                                open = False\n",
    "                                bag.append(')')                     \n",
    "                    else : \n",
    "                        if(z >= len(bin)) :\n",
    "                            bag.append(all[i][k])\n",
    "                        else :\n",
    "                            if(bin[z] == 1) :\n",
    "                                open = True\n",
    "                                bag.append('(')\n",
    "                                bag.append(all[i][k])\n",
    "                            else : \n",
    "                                open = False # superfluous\n",
    "                                bag.append(all[i][k])\n",
    "            list.append(bag)\n",
    "    return list\n",
    "\n",
    "parenthesize([('x1', '+', 'x2', '/', 'x3', '*', 'x4')])"
   ]
  },
  {
   "cell_type": "markdown",
   "metadata": {},
   "source": [
    "### Three Numbers Solution\n",
    "\n",
    "This solution is based on the assumption that the solution is a combination of three values, say $x_i, x_j, x_k$. \n",
    "\n",
    "6 Combination 3 = ${}^6C_3 = \\frac{6!}{(6-3)!3!} = \\frac{6 \\times 5 \\times 4 \\times 3 \\times 2 \\times 1}{(3 \\times 2 \\times 1)3 \\times 2 \\times 1} = 20$\n",
    "\n",
    "$\\implies C_3 = 20$\n",
    "\n",
    "This implies that there are 20 possible combinations of 3 distinct numbers in the list. \n",
    "\n",
    "Also there are four (4) possible operations that can be performed. \n",
    "\n",
    "$\\implies N_3 = C_3 \\times m = 20 \\times 4 = 80$"
   ]
  }
 ],
 "metadata": {
  "kernelspec": {
   "display_name": "base",
   "language": "python",
   "name": "python3"
  },
  "language_info": {
   "codemirror_mode": {
    "name": "ipython",
    "version": 3
   },
   "file_extension": ".py",
   "mimetype": "text/x-python",
   "name": "python",
   "nbconvert_exporter": "python",
   "pygments_lexer": "ipython3",
   "version": "3.11.7"
  }
 },
 "nbformat": 4,
 "nbformat_minor": 2
}
